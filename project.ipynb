{
 "cells": [
  {
   "cell_type": "markdown",
   "id": "a4dfa0c9",
   "metadata": {},
   "source": [
    "# Project Notebook\n",
    "\n",
    "The main stuff will be done here!\n",
    "\n",
    "## What is needed?\n",
    "\n",
    "For this, I will use `mysql`, which I will host locally. This needs to be runned for `pymssql` to work. After that I can make queries with pymssql when I connect to my local hosted server. This makes development easier. As I use a different machine from last time when I used these, I have to install them again.\n",
    "\n",
    "**Mysql** local install:\n",
    "\n",
    "1. Download it from their site! \n",
    "2. Install the necessary tools! (I did all)\n",
    "3. ADD IT TO `PATH`\n",
    "4. Check with `mysql -V` in terminal if it is installed correctly (restart my be needed needed)\n",
    "5. ENJOY!\n",
    "\n",
    "`On windows, it creates a very okeyish config file with reasonable variables.`\n",
    "\n",
    "`On linux, there is no need to be added to path, but the config file is empty.`\n",
    "\n",
    "**pymssql**:\n",
    "\n",
    "1. `pip install -u pymsql`\n",
    "\n",
    "**.ENV**\n",
    "\n",
    "It is a good practice to create a new user with granted permissions (don't use root), but it's necessary to hide these credentials if the work is shared: create an .env file that has the information and block its upload to github!\n",
    "\n",
    "**Helpful stuff**\n",
    "\n",
    "https://www.digitalocean.com/community/tutorials/a-basic-mysql-tutorial\n",
    "\n",
    "https://www.digitalocean.com/community/tutorials/how-to-create-a-new-user-and-grant-permissions-in-mysql"
   ]
  },
  {
   "cell_type": "code",
   "execution_count": 12,
   "id": "4fa7b3ce",
   "metadata": {},
   "outputs": [
    {
     "data": {
      "text/plain": [
       "True"
      ]
     },
     "execution_count": 12,
     "metadata": {},
     "output_type": "execute_result"
    }
   ],
   "source": [
    "import numpy as np\n",
    "import pandas as pd\n",
    "\n",
    "import matplotlib.pyplot as plt\n",
    "import matplotlib as mpl\n",
    "import seaborn as sns\n",
    "\n",
    "import re\n",
    "\n",
    "import sys\n",
    "import os\n",
    "import pathlib\n",
    "import glob\n",
    "\n",
    "import pymssql\n",
    "\n",
    "import mysql.connector\n",
    "from mysql.connector import Error\n",
    "from mysql.connector import OperationalError, ProgrammingError\n",
    "\n",
    "from dotenv import load_dotenv\n",
    "load_dotenv()"
   ]
  },
  {
   "cell_type": "markdown",
   "id": "a87a4692",
   "metadata": {},
   "source": [
    "**Usage of .env is essential in hidin credenials**"
   ]
  },
  {
   "cell_type": "code",
   "execution_count": 2,
   "id": "86ae41f7",
   "metadata": {},
   "outputs": [],
   "source": [
    "usr = os.getenv('user')\n",
    "psswrd = os.getenv('password')"
   ]
  },
  {
   "cell_type": "markdown",
   "id": "74589a86",
   "metadata": {},
   "source": [
    "Let's test i this works"
   ]
  },
  {
   "cell_type": "code",
   "execution_count": 3,
   "id": "41d0165b",
   "metadata": {
    "scrolled": false
   },
   "outputs": [
    {
     "name": "stdout",
     "output_type": "stream",
     "text": [
      "(49, 8, 'szaboadamg@localhost', 'sys', 'Query', 'executing', 0, 'select* from session', '33.21 ms', None, '1.77 ms', 0, 0, 0, 2, 0, 'YES', None, None, '1.58 MiB', None, None, None, '3.52 ms', 'ACTIVE', 'NO', '17388', None)\n"
     ]
    },
    {
     "data": {
      "text/plain": [
       "True"
      ]
     },
     "execution_count": 3,
     "metadata": {},
     "output_type": "execute_result"
    }
   ],
   "source": [
    "#how to use it\n",
    "\"\"\"\n",
    "# This opens a connection to the MS SQL server\n",
    "conn = pymssql.connect(user=usr, \n",
    "                       password=psswrd,\n",
    "                       host='localhost',\n",
    "                       database='sys')\n",
    "\n",
    "cursor = conn.cursor()\n",
    "# A test query\n",
    "res = cursor.execute('select * from shot;')\n",
    "print(cursor.fetchone())\n",
    "\"\"\"\n",
    "\n",
    "db_connection = mysql.connector.connect(user=usr,\n",
    "                                        passwd=psswrd ,\n",
    "                                        host='localhost',\n",
    "                                        database = 'sys',\n",
    "                                        use_pure=True)\n",
    "\n",
    "db_cursor = db_connection.cursor()\n",
    "db_cursor.execute('select* from session;')\n",
    "for db in db_cursor:\n",
    "    print(db)\n",
    "\n",
    "db_connection.close()\n",
    "db_cursor.close()\n",
    "\n"
   ]
  },
  {
   "cell_type": "markdown",
   "id": "f8317f6c",
   "metadata": {},
   "source": [
    "Now I just need to create this course's database and create the table that has the .csv loaded in...\n",
    "\n",
    "```\n",
    "    load data infile 'data\\_linklist.csv'\n",
    "    into table linklist\n",
    "    fields terminated by ','\n",
    "    lines terminated by '\\n'\n",
    "    ignore 1 rows;\n",
    "\n",
    "```\n",
    "\n",
    "THe problem is that the setup file has 2 rows specifying where the mysql server can take files from. One of them prevents `local` file insertion, the other gives a strict path.\n",
    "\n",
    "**But this needs a well defined table beforehand.** With these, the first 3 task is complete:\n",
    "\n",
    "1. Get the data from kaggle\n",
    "2. Load the tables into a database\n",
    "3. Create linklist"
   ]
  },
  {
   "cell_type": "markdown",
   "id": "1604ce48",
   "metadata": {},
   "source": [
    "## 4. Network Visualizations\n",
    "\n",
    "Visualizing the networks with the nodes and links. Nodes that are more connected shall be bigger."
   ]
  },
  {
   "cell_type": "code",
   "execution_count": 43,
   "id": "ac5dc1b3",
   "metadata": {},
   "outputs": [],
   "source": [
    "import networkx as nx"
   ]
  },
  {
   "cell_type": "code",
   "execution_count": 44,
   "id": "13ec01a3",
   "metadata": {},
   "outputs": [
    {
     "name": "stdout",
     "output_type": "stream",
     "text": [
      "23036\n"
     ]
    },
    {
     "data": {
      "text/plain": [
       "True"
      ]
     },
     "execution_count": 44,
     "metadata": {},
     "output_type": "execute_result"
    }
   ],
   "source": [
    "db_connection = mysql.connector.connect(user=usr,\n",
    "                                        passwd=psswrd ,\n",
    "                                        host='localhost',\n",
    "                                        database = 'datamodproj',\n",
    "                                        use_pure=True)\n",
    "\n",
    "Llist = []\n",
    "count=0\n",
    "db_cursor = db_connection.cursor()\n",
    "db_cursor.execute('select* from linklist;')\n",
    "for db in db_cursor:\n",
    "    Llist.append(db)\n",
    "    count=count+1\n",
    "\n",
    "print(count)\n",
    "\n",
    "db_connection.close()\n",
    "db_cursor.close()"
   ]
  },
  {
   "cell_type": "code",
   "execution_count": 45,
   "id": "2be59862",
   "metadata": {},
   "outputs": [
    {
     "data": {
      "text/plain": [
       "('a925ecc2-c223-5555-b66e-0b5b24122201',\n",
       " ' ee9c03ac-4251-5042-ac85-986db9228a17\\r')"
      ]
     },
     "execution_count": 45,
     "metadata": {},
     "output_type": "execute_result"
    }
   ],
   "source": [
    "Llist[1]"
   ]
  },
  {
   "cell_type": "markdown",
   "id": "f9425386",
   "metadata": {},
   "source": [
    "It's strange that the `\\r` is present in the returned result of the query. Regex can remove, but I have never seen such thing before. Maybe due to the loading?"
   ]
  },
  {
   "cell_type": "code",
   "execution_count": 46,
   "id": "98aff1e3",
   "metadata": {},
   "outputs": [
    {
     "data": {
      "text/plain": [
       "('a925ecc2-c223-5555-b66e-0b5b24122201',\n",
       " 'ee9c03ac-4251-5042-ac85-986db9228a17')"
      ]
     },
     "execution_count": 46,
     "metadata": {},
     "output_type": "execute_result"
    }
   ],
   "source": [
    "for i in range(len(Llist)):\n",
    "    sub = list(Llist[i])\n",
    "    sub[1] = re.sub(r'\\r', '', sub[1]).strip()\n",
    "    Llist[i] = tuple(sub)\n",
    "    \n",
    "Llist_a = np.array(Llist)\n",
    "Llist[1]"
   ]
  },
  {
   "cell_type": "markdown",
   "id": "ed11be65",
   "metadata": {},
   "source": [
    "Fixed!\n",
    "\n",
    "### Graph \n",
    "\n",
    "https://networkx.org/documentation/stable/tutorial.html"
   ]
  },
  {
   "cell_type": "code",
   "execution_count": 47,
   "id": "87b5ed01",
   "metadata": {},
   "outputs": [],
   "source": [
    "# GRAPH\n",
    "\n",
    "G = nx.Graph()\n",
    "\n",
    "G.add_edges_from(Llist)"
   ]
  },
  {
   "cell_type": "code",
   "execution_count": 51,
   "id": "6dd12682",
   "metadata": {},
   "outputs": [
    {
     "data": {
      "text/plain": [
       "(635, 11031)"
      ]
     },
     "execution_count": 51,
     "metadata": {},
     "output_type": "execute_result"
    }
   ],
   "source": [
    "G.number_of_nodes(), G.number_of_edges()"
   ]
  },
  {
   "cell_type": "markdown",
   "id": "ca292571",
   "metadata": {},
   "source": [
    "This is less than the length of the linklist. Does it know that these eddes are weighted?"
   ]
  },
  {
   "cell_type": "code",
   "execution_count": 62,
   "id": "d049860d",
   "metadata": {},
   "outputs": [
    {
     "name": "stdout",
     "output_type": "stream",
     "text": [
      "22062\n"
     ]
    }
   ],
   "source": [
    "sum_node_deg = 0\n",
    "for i in range(len(G.degree())):\n",
    "    sum_node_deg = sum_node_deg + list(list(G.degree)[i])[1]\n",
    "print(sum_node_deg) "
   ]
  },
  {
   "cell_type": "markdown",
   "id": "310688b3",
   "metadata": {},
   "source": [
    "**It knows. Yes!**"
   ]
  },
  {
   "cell_type": "code",
   "execution_count": 64,
   "id": "8e27aee2",
   "metadata": {},
   "outputs": [
    {
     "ename": "NetworkXError",
     "evalue": "random_state_index is incorrect",
     "output_type": "error",
     "traceback": [
      "\u001b[1;31m---------------------------------------------------------------------------\u001b[0m",
      "\u001b[1;31mIndexError\u001b[0m                                Traceback (most recent call last)",
      "\u001b[1;32mE:\\ANACONDA\\conda\\lib\\site-packages\\networkx\\utils\\decorators.py\u001b[0m in \u001b[0;36m_random_state\u001b[1;34m(func, *args, **kwargs)\u001b[0m\n\u001b[0;32m    395\u001b[0m         \u001b[1;32mtry\u001b[0m\u001b[1;33m:\u001b[0m\u001b[1;33m\u001b[0m\u001b[1;33m\u001b[0m\u001b[0m\n\u001b[1;32m--> 396\u001b[1;33m             \u001b[0mrandom_state_arg\u001b[0m \u001b[1;33m=\u001b[0m \u001b[0margs\u001b[0m\u001b[1;33m[\u001b[0m\u001b[0mrandom_state_index\u001b[0m\u001b[1;33m]\u001b[0m\u001b[1;33m\u001b[0m\u001b[1;33m\u001b[0m\u001b[0m\n\u001b[0m\u001b[0;32m    397\u001b[0m         \u001b[1;32mexcept\u001b[0m \u001b[0mTypeError\u001b[0m \u001b[1;32mas\u001b[0m \u001b[0me\u001b[0m\u001b[1;33m:\u001b[0m\u001b[1;33m\u001b[0m\u001b[1;33m\u001b[0m\u001b[0m\n",
      "\u001b[1;31mIndexError\u001b[0m: tuple index out of range",
      "\nThe above exception was the direct cause of the following exception:\n",
      "\u001b[1;31mNetworkXError\u001b[0m                             Traceback (most recent call last)",
      "\u001b[1;32m<ipython-input-64-7a9c3d437fc8>\u001b[0m in \u001b[0;36m<module>\u001b[1;34m\u001b[0m\n\u001b[0;32m      1\u001b[0m \u001b[1;31m#Let's draw this\u001b[0m\u001b[1;33m\u001b[0m\u001b[1;33m\u001b[0m\u001b[1;33m\u001b[0m\u001b[0m\n\u001b[0;32m      2\u001b[0m \u001b[1;33m\u001b[0m\u001b[0m\n\u001b[1;32m----> 3\u001b[1;33m \u001b[0mpos\u001b[0m \u001b[1;33m=\u001b[0m \u001b[0mnx\u001b[0m\u001b[1;33m.\u001b[0m\u001b[0mspring_layout\u001b[0m\u001b[1;33m(\u001b[0m\u001b[0mG\u001b[0m\u001b[1;33m)\u001b[0m\u001b[1;33m\u001b[0m\u001b[1;33m\u001b[0m\u001b[0m\n\u001b[0m\u001b[0;32m      4\u001b[0m nx.draw_networkx_nodes(G, pos, cmap=plt.get_cmap('jet'), \n\u001b[0;32m      5\u001b[0m                        node_color = values, node_size = 10)\n",
      "\u001b[1;32mE:\\ANACONDA\\conda\\lib\\site-packages\\decorator.py\u001b[0m in \u001b[0;36mfun\u001b[1;34m(*args, **kw)\u001b[0m\n\u001b[0;32m    229\u001b[0m         \u001b[1;32mdef\u001b[0m \u001b[0mfun\u001b[0m\u001b[1;33m(\u001b[0m\u001b[1;33m*\u001b[0m\u001b[0margs\u001b[0m\u001b[1;33m,\u001b[0m \u001b[1;33m**\u001b[0m\u001b[0mkw\u001b[0m\u001b[1;33m)\u001b[0m\u001b[1;33m:\u001b[0m\u001b[1;33m\u001b[0m\u001b[1;33m\u001b[0m\u001b[0m\n\u001b[0;32m    230\u001b[0m             \u001b[1;32mif\u001b[0m \u001b[1;32mnot\u001b[0m \u001b[0mkwsyntax\u001b[0m\u001b[1;33m:\u001b[0m\u001b[1;33m\u001b[0m\u001b[1;33m\u001b[0m\u001b[0m\n\u001b[1;32m--> 231\u001b[1;33m                 \u001b[0margs\u001b[0m\u001b[1;33m,\u001b[0m \u001b[0mkw\u001b[0m \u001b[1;33m=\u001b[0m \u001b[0mfix\u001b[0m\u001b[1;33m(\u001b[0m\u001b[0margs\u001b[0m\u001b[1;33m,\u001b[0m \u001b[0mkw\u001b[0m\u001b[1;33m,\u001b[0m \u001b[0msig\u001b[0m\u001b[1;33m)\u001b[0m\u001b[1;33m\u001b[0m\u001b[1;33m\u001b[0m\u001b[0m\n\u001b[0m\u001b[0;32m    232\u001b[0m             \u001b[1;32mreturn\u001b[0m \u001b[0mcaller\u001b[0m\u001b[1;33m(\u001b[0m\u001b[0mfunc\u001b[0m\u001b[1;33m,\u001b[0m \u001b[1;33m*\u001b[0m\u001b[1;33m(\u001b[0m\u001b[0mextras\u001b[0m \u001b[1;33m+\u001b[0m \u001b[0margs\u001b[0m\u001b[1;33m)\u001b[0m\u001b[1;33m,\u001b[0m \u001b[1;33m**\u001b[0m\u001b[0mkw\u001b[0m\u001b[1;33m)\u001b[0m\u001b[1;33m\u001b[0m\u001b[1;33m\u001b[0m\u001b[0m\n\u001b[0;32m    233\u001b[0m     \u001b[0mfun\u001b[0m\u001b[1;33m.\u001b[0m\u001b[0m__name__\u001b[0m \u001b[1;33m=\u001b[0m \u001b[0mfunc\u001b[0m\u001b[1;33m.\u001b[0m\u001b[0m__name__\u001b[0m\u001b[1;33m\u001b[0m\u001b[1;33m\u001b[0m\u001b[0m\n",
      "\u001b[1;32mE:\\ANACONDA\\conda\\lib\\site-packages\\networkx\\utils\\decorators.py\u001b[0m in \u001b[0;36m_random_state\u001b[1;34m(func, *args, **kwargs)\u001b[0m\n\u001b[0;32m    398\u001b[0m             \u001b[1;32mraise\u001b[0m \u001b[0mnx\u001b[0m\u001b[1;33m.\u001b[0m\u001b[0mNetworkXError\u001b[0m\u001b[1;33m(\u001b[0m\u001b[1;34m\"random_state_index must be an integer\"\u001b[0m\u001b[1;33m)\u001b[0m \u001b[1;32mfrom\u001b[0m \u001b[0me\u001b[0m\u001b[1;33m\u001b[0m\u001b[1;33m\u001b[0m\u001b[0m\n\u001b[0;32m    399\u001b[0m         \u001b[1;32mexcept\u001b[0m \u001b[0mIndexError\u001b[0m \u001b[1;32mas\u001b[0m \u001b[0me\u001b[0m\u001b[1;33m:\u001b[0m\u001b[1;33m\u001b[0m\u001b[1;33m\u001b[0m\u001b[0m\n\u001b[1;32m--> 400\u001b[1;33m             \u001b[1;32mraise\u001b[0m \u001b[0mnx\u001b[0m\u001b[1;33m.\u001b[0m\u001b[0mNetworkXError\u001b[0m\u001b[1;33m(\u001b[0m\u001b[1;34m\"random_state_index is incorrect\"\u001b[0m\u001b[1;33m)\u001b[0m \u001b[1;32mfrom\u001b[0m \u001b[0me\u001b[0m\u001b[1;33m\u001b[0m\u001b[1;33m\u001b[0m\u001b[0m\n\u001b[0m\u001b[0;32m    401\u001b[0m \u001b[1;33m\u001b[0m\u001b[0m\n\u001b[0;32m    402\u001b[0m         \u001b[1;31m# Create a numpy.random.RandomState instance\u001b[0m\u001b[1;33m\u001b[0m\u001b[1;33m\u001b[0m\u001b[1;33m\u001b[0m\u001b[0m\n",
      "\u001b[1;31mNetworkXError\u001b[0m: random_state_index is incorrect"
     ]
    }
   ],
   "source": [
    "#Let's draw this\n",
    "\n",
    "pos = nx.spring_layout(G)\n",
    "nx.draw_networkx_nodes(G, pos, cmap=plt.get_cmap('jet'), \n",
    "                       node_color = values, node_size = 10)\n",
    "nx.draw_networkx_edges(G, pos, edgelist=red_edges, edge_color='r', arrows=True)\n",
    "\n",
    "plt.show()"
   ]
  },
  {
   "cell_type": "code",
   "execution_count": null,
   "id": "ee728bf8",
   "metadata": {},
   "outputs": [],
   "source": []
  }
 ],
 "metadata": {
  "kernelspec": {
   "display_name": "Python 3",
   "language": "python",
   "name": "python3"
  },
  "language_info": {
   "codemirror_mode": {
    "name": "ipython",
    "version": 3
   },
   "file_extension": ".py",
   "mimetype": "text/x-python",
   "name": "python",
   "nbconvert_exporter": "python",
   "pygments_lexer": "ipython3",
   "version": "3.8.8"
  }
 },
 "nbformat": 4,
 "nbformat_minor": 5
}
