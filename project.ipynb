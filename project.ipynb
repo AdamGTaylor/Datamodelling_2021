{
 "cells": [
  {
   "cell_type": "markdown",
   "id": "a4dfa0c9",
   "metadata": {},
   "source": [
    "# Project Notebook\n",
    "\n",
    "The main stuff will be done here!\n",
    "\n",
    "## What is needed?\n",
    "\n",
    "For this, I will use `mysql`, which I will host locally. This needs to be runned for `pymssql` to work. After that I can make queries with pymssql when I connect to my local hosted server. This makes development easier. As I use a different machine from last time when I used these, I have to install them again.\n",
    "\n",
    "**Mysql** local install:\n",
    "\n",
    "1. Download it from their site! \n",
    "2. Install the necessary tools! (I did all)\n",
    "3. ADD IT TO `PATH`\n",
    "4. Check with `mysql -V` in terminal if it is installed correctly (restart my be needed needed)\n",
    "5. ENJOY!\n",
    "\n",
    "`On windows, it creates a very okeyish config file with reasonable variables.`\n",
    "\n",
    "`On linux, there is no need to be added to path, but the config file is empty.`\n",
    "\n",
    "**pymssql**:\n",
    "\n",
    "1. `pip install -u pymsql`\n",
    "\n",
    "**.ENV**\n",
    "\n",
    "It is a good practice to create a new user with granted permissions (don't use root), but it's necessary to hide these credentials if the work is shared: create an .env file that has the information and block its upload to github!\n",
    "\n",
    "**Helpful stuff**\n",
    "\n",
    "https://www.digitalocean.com/community/tutorials/a-basic-mysql-tutorial\n",
    "\n",
    "https://www.digitalocean.com/community/tutorials/how-to-create-a-new-user-and-grant-permissions-in-mysql"
   ]
  },
  {
   "cell_type": "code",
   "execution_count": 18,
   "id": "4fa7b3ce",
   "metadata": {},
   "outputs": [
    {
     "data": {
      "text/plain": [
       "True"
      ]
     },
     "execution_count": 18,
     "metadata": {},
     "output_type": "execute_result"
    }
   ],
   "source": [
    "import numpy as np\n",
    "import pandas as pd\n",
    "\n",
    "import matplotlib.pyplot as plt\n",
    "import matplotlib as mpl\n",
    "import seaborn as sns\n",
    "\n",
    "import sys\n",
    "import os\n",
    "import pathlib\n",
    "import glob\n",
    "\n",
    "import pymssql\n",
    "\n",
    "import mysql.connector\n",
    "from mysql.connector import Error\n",
    "from mysql.connector import OperationalError, ProgrammingError\n",
    "\n",
    "from dotenv import load_dotenv\n",
    "load_dotenv()"
   ]
  },
  {
   "cell_type": "code",
   "execution_count": 12,
   "id": "86ae41f7",
   "metadata": {},
   "outputs": [],
   "source": [
    "usr = os.getenv('user')\n",
    "psswrd = os.getenv('password')"
   ]
  },
  {
   "cell_type": "code",
   "execution_count": 33,
   "id": "41d0165b",
   "metadata": {
    "scrolled": false
   },
   "outputs": [
    {
     "name": "stdout",
     "output_type": "stream",
     "text": [
      "(65, 25, 'szaboadamg@localhost', 'sys', 'Sleep', None, 490, None, None, None, '  0 ps', 0, 0, 0, 0, 0, 'NO', 'select *', '50.80 us', '78.45 KiB', None, None, None, None, None, None, '17528', None)\n",
      "(69, 29, 'szaboadamg@localhost', 'sys', 'Query', None, 0, \"SET @sys.statement_truncate_le ... ('statement_truncate_len', 64)\", '41.58 ms', None, '136.00 us', 1, 0, 0, 4, 0, 'YES', None, None, '1.24 MiB', None, None, None, '29.34 ms', 'ACTIVE', 'NO', '17528', None)\n"
     ]
    },
    {
     "data": {
      "text/plain": [
       "True"
      ]
     },
     "execution_count": 33,
     "metadata": {},
     "output_type": "execute_result"
    }
   ],
   "source": [
    "#how to use it\n",
    "\"\"\"\n",
    "# This opens a connection to the MS SQL server\n",
    "conn = pymssql.connect(user=usr, \n",
    "                       password=psswrd,\n",
    "                       host='localhost',\n",
    "                       database='sys')\n",
    "\n",
    "cursor = conn.cursor()\n",
    "# A test query\n",
    "res = cursor.execute('select * from shot;')\n",
    "print(cursor.fetchone())\n",
    "\"\"\"\n",
    "\n",
    "db_connection = mysql.connector.connect(user=usr,\n",
    "                                        passwd=psswrd ,\n",
    "                                        host='localhost',\n",
    "                                        database = 'sys',\n",
    "                                        use_pure=True)\n",
    "\n",
    "db_cursor = db_connection.cursor()\n",
    "db_cursor.execute('select* from session;')\n",
    "for db in db_cursor:\n",
    "    print(db)\n",
    "\n",
    "db_connection.close()\n",
    "db_cursor.close()\n",
    "\n"
   ]
  },
  {
   "cell_type": "markdown",
   "id": "f8317f6c",
   "metadata": {},
   "source": [
    "Now I just need to create this course's database and create the table that has the .csv loaded in..."
   ]
  },
  {
   "cell_type": "code",
   "execution_count": null,
   "id": "b99a96f8",
   "metadata": {},
   "outputs": [],
   "source": []
  }
 ],
 "metadata": {
  "kernelspec": {
   "display_name": "Python 3",
   "language": "python",
   "name": "python3"
  },
  "language_info": {
   "codemirror_mode": {
    "name": "ipython",
    "version": 3
   },
   "file_extension": ".py",
   "mimetype": "text/x-python",
   "name": "python",
   "nbconvert_exporter": "python",
   "pygments_lexer": "ipython3",
   "version": "3.8.8"
  }
 },
 "nbformat": 4,
 "nbformat_minor": 5
}
