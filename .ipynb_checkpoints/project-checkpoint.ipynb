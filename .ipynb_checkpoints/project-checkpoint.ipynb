{
 "cells": [
  {
   "cell_type": "markdown",
   "id": "a4dfa0c9",
   "metadata": {},
   "source": [
    "# Project Notebook\n",
    "\n",
    "The main stuff will be done here!\n",
    "\n",
    "## What is needed?\n",
    "\n",
    "For this, I will use `mysql`, which I will host locally. This needs to be runned for `pymssql` to work. After that I can make queries with pymssql when I connect to my local hosted server. This makes development easier. As I use a different machine from last time when I used these, I have to install them again.\n",
    "\n",
    "**Mysql** local install:\n",
    "\n",
    "1. Download it from their site! \n",
    "2. Install the necessary tools! (I did all)\n",
    "3. ADD IT TO `PATH`\n",
    "4. Check with `mysql -V` in terminal if it is installed correctly (restart my be needed needed)\n",
    "5. ENJOY!\n",
    "\n",
    "`On windows, it creates a very okeyish config file with reasonable variables.`\n",
    "\n",
    "`On linux, there is no need to be added to path, but the config file is empty.`\n",
    "\n",
    "**pymssql**:\n",
    "\n",
    "1. `pip install -u pymsql`"
   ]
  },
  {
   "cell_type": "code",
   "execution_count": 1,
   "id": "4fa7b3ce",
   "metadata": {},
   "outputs": [],
   "source": [
    "import numpy as np\n",
    "import pandas as pd\n",
    "\n",
    "import pymssql\n",
    "\n",
    "import matplotlib.pyplot as plt\n",
    "import matplotlib as mpl\n",
    "import seaborn as sns\n",
    "\n",
    "import sys\n",
    "import os\n",
    "import pathlib\n",
    "import glob"
   ]
  },
  {
   "cell_type": "code",
   "execution_count": null,
   "id": "86ae41f7",
   "metadata": {},
   "outputs": [],
   "source": []
  }
 ],
 "metadata": {
  "kernelspec": {
   "display_name": "Python 3",
   "language": "python",
   "name": "python3"
  },
  "language_info": {
   "codemirror_mode": {
    "name": "ipython",
    "version": 3
   },
   "file_extension": ".py",
   "mimetype": "text/x-python",
   "name": "python",
   "nbconvert_exporter": "python",
   "pygments_lexer": "ipython3",
   "version": "3.8.8"
  }
 },
 "nbformat": 4,
 "nbformat_minor": 5
}
